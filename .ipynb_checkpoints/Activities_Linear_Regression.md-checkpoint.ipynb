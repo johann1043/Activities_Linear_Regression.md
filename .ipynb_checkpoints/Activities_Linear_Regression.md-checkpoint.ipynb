{
 "cells": [
  {
   "cell_type": "code",
   "execution_count": 186,
   "id": "d4876cb6-38b0-4614-957a-cbba6d9248e7",
   "metadata": {
    "tags": []
   },
   "outputs": [],
   "source": [
    "import pandas as pd\n",
    "\n",
    "url = 'marketing_customer_analysis_clean.csv'\n",
    "df = pd.read_csv(url)"
   ]
  },
  {
   "cell_type": "code",
   "execution_count": 187,
   "id": "2ca6e96a-04ba-4404-be9b-8baeacf9f6d1",
   "metadata": {
    "tags": []
   },
   "outputs": [],
   "source": [
    "numericals_df = df.select_dtypes(include='number')"
   ]
  },
  {
   "cell_type": "code",
   "execution_count": 188,
   "id": "637c4569-b233-45bb-a45d-0da767af389a",
   "metadata": {
    "tags": []
   },
   "outputs": [
    {
     "data": {
      "text/html": [
       "<div>\n",
       "<style scoped>\n",
       "    .dataframe tbody tr th:only-of-type {\n",
       "        vertical-align: middle;\n",
       "    }\n",
       "\n",
       "    .dataframe tbody tr th {\n",
       "        vertical-align: top;\n",
       "    }\n",
       "\n",
       "    .dataframe thead th {\n",
       "        text-align: right;\n",
       "    }\n",
       "</style>\n",
       "<table border=\"1\" class=\"dataframe\">\n",
       "  <thead>\n",
       "    <tr style=\"text-align: right;\">\n",
       "      <th></th>\n",
       "      <th>unnamed:_0</th>\n",
       "      <th>customer_lifetime_value</th>\n",
       "      <th>income</th>\n",
       "      <th>monthly_premium_auto</th>\n",
       "      <th>months_since_last_claim</th>\n",
       "      <th>months_since_policy_inception</th>\n",
       "      <th>number_of_open_complaints</th>\n",
       "      <th>number_of_policies</th>\n",
       "      <th>total_claim_amount</th>\n",
       "      <th>month</th>\n",
       "    </tr>\n",
       "  </thead>\n",
       "  <tbody>\n",
       "    <tr>\n",
       "      <th>0</th>\n",
       "      <td>0</td>\n",
       "      <td>4809.216960</td>\n",
       "      <td>48029</td>\n",
       "      <td>61</td>\n",
       "      <td>7.000000</td>\n",
       "      <td>52</td>\n",
       "      <td>0.000000</td>\n",
       "      <td>9</td>\n",
       "      <td>292.800000</td>\n",
       "      <td>2</td>\n",
       "    </tr>\n",
       "    <tr>\n",
       "      <th>1</th>\n",
       "      <td>1</td>\n",
       "      <td>2228.525238</td>\n",
       "      <td>0</td>\n",
       "      <td>64</td>\n",
       "      <td>3.000000</td>\n",
       "      <td>26</td>\n",
       "      <td>0.000000</td>\n",
       "      <td>1</td>\n",
       "      <td>744.924331</td>\n",
       "      <td>1</td>\n",
       "    </tr>\n",
       "    <tr>\n",
       "      <th>2</th>\n",
       "      <td>2</td>\n",
       "      <td>14947.917300</td>\n",
       "      <td>22139</td>\n",
       "      <td>100</td>\n",
       "      <td>34.000000</td>\n",
       "      <td>31</td>\n",
       "      <td>0.000000</td>\n",
       "      <td>2</td>\n",
       "      <td>480.000000</td>\n",
       "      <td>2</td>\n",
       "    </tr>\n",
       "    <tr>\n",
       "      <th>3</th>\n",
       "      <td>3</td>\n",
       "      <td>22332.439460</td>\n",
       "      <td>49078</td>\n",
       "      <td>97</td>\n",
       "      <td>10.000000</td>\n",
       "      <td>3</td>\n",
       "      <td>0.000000</td>\n",
       "      <td>2</td>\n",
       "      <td>484.013411</td>\n",
       "      <td>1</td>\n",
       "    </tr>\n",
       "    <tr>\n",
       "      <th>4</th>\n",
       "      <td>4</td>\n",
       "      <td>9025.067525</td>\n",
       "      <td>23675</td>\n",
       "      <td>117</td>\n",
       "      <td>15.149071</td>\n",
       "      <td>31</td>\n",
       "      <td>0.384256</td>\n",
       "      <td>7</td>\n",
       "      <td>707.925645</td>\n",
       "      <td>1</td>\n",
       "    </tr>\n",
       "    <tr>\n",
       "      <th>...</th>\n",
       "      <td>...</td>\n",
       "      <td>...</td>\n",
       "      <td>...</td>\n",
       "      <td>...</td>\n",
       "      <td>...</td>\n",
       "      <td>...</td>\n",
       "      <td>...</td>\n",
       "      <td>...</td>\n",
       "      <td>...</td>\n",
       "      <td>...</td>\n",
       "    </tr>\n",
       "    <tr>\n",
       "      <th>10905</th>\n",
       "      <td>10905</td>\n",
       "      <td>15563.369440</td>\n",
       "      <td>0</td>\n",
       "      <td>253</td>\n",
       "      <td>15.149071</td>\n",
       "      <td>40</td>\n",
       "      <td>0.384256</td>\n",
       "      <td>7</td>\n",
       "      <td>1214.400000</td>\n",
       "      <td>1</td>\n",
       "    </tr>\n",
       "    <tr>\n",
       "      <th>10906</th>\n",
       "      <td>10906</td>\n",
       "      <td>5259.444853</td>\n",
       "      <td>61146</td>\n",
       "      <td>65</td>\n",
       "      <td>7.000000</td>\n",
       "      <td>68</td>\n",
       "      <td>0.000000</td>\n",
       "      <td>6</td>\n",
       "      <td>273.018929</td>\n",
       "      <td>1</td>\n",
       "    </tr>\n",
       "    <tr>\n",
       "      <th>10907</th>\n",
       "      <td>10907</td>\n",
       "      <td>23893.304100</td>\n",
       "      <td>39837</td>\n",
       "      <td>201</td>\n",
       "      <td>11.000000</td>\n",
       "      <td>63</td>\n",
       "      <td>0.000000</td>\n",
       "      <td>2</td>\n",
       "      <td>381.306996</td>\n",
       "      <td>2</td>\n",
       "    </tr>\n",
       "    <tr>\n",
       "      <th>10908</th>\n",
       "      <td>10908</td>\n",
       "      <td>11971.977650</td>\n",
       "      <td>64195</td>\n",
       "      <td>158</td>\n",
       "      <td>0.000000</td>\n",
       "      <td>27</td>\n",
       "      <td>4.000000</td>\n",
       "      <td>6</td>\n",
       "      <td>618.288849</td>\n",
       "      <td>2</td>\n",
       "    </tr>\n",
       "    <tr>\n",
       "      <th>10909</th>\n",
       "      <td>10909</td>\n",
       "      <td>6857.519928</td>\n",
       "      <td>0</td>\n",
       "      <td>101</td>\n",
       "      <td>31.000000</td>\n",
       "      <td>1</td>\n",
       "      <td>0.000000</td>\n",
       "      <td>3</td>\n",
       "      <td>1021.719397</td>\n",
       "      <td>1</td>\n",
       "    </tr>\n",
       "  </tbody>\n",
       "</table>\n",
       "<p>10910 rows × 10 columns</p>\n",
       "</div>"
      ],
      "text/plain": [
       "       unnamed:_0  customer_lifetime_value  income  monthly_premium_auto  \\\n",
       "0               0              4809.216960   48029                    61   \n",
       "1               1              2228.525238       0                    64   \n",
       "2               2             14947.917300   22139                   100   \n",
       "3               3             22332.439460   49078                    97   \n",
       "4               4              9025.067525   23675                   117   \n",
       "...           ...                      ...     ...                   ...   \n",
       "10905       10905             15563.369440       0                   253   \n",
       "10906       10906              5259.444853   61146                    65   \n",
       "10907       10907             23893.304100   39837                   201   \n",
       "10908       10908             11971.977650   64195                   158   \n",
       "10909       10909              6857.519928       0                   101   \n",
       "\n",
       "       months_since_last_claim  months_since_policy_inception  \\\n",
       "0                     7.000000                             52   \n",
       "1                     3.000000                             26   \n",
       "2                    34.000000                             31   \n",
       "3                    10.000000                              3   \n",
       "4                    15.149071                             31   \n",
       "...                        ...                            ...   \n",
       "10905                15.149071                             40   \n",
       "10906                 7.000000                             68   \n",
       "10907                11.000000                             63   \n",
       "10908                 0.000000                             27   \n",
       "10909                31.000000                              1   \n",
       "\n",
       "       number_of_open_complaints  number_of_policies  total_claim_amount  \\\n",
       "0                       0.000000                   9          292.800000   \n",
       "1                       0.000000                   1          744.924331   \n",
       "2                       0.000000                   2          480.000000   \n",
       "3                       0.000000                   2          484.013411   \n",
       "4                       0.384256                   7          707.925645   \n",
       "...                          ...                 ...                 ...   \n",
       "10905                   0.384256                   7         1214.400000   \n",
       "10906                   0.000000                   6          273.018929   \n",
       "10907                   0.000000                   2          381.306996   \n",
       "10908                   4.000000                   6          618.288849   \n",
       "10909                   0.000000                   3         1021.719397   \n",
       "\n",
       "       month  \n",
       "0          2  \n",
       "1          1  \n",
       "2          2  \n",
       "3          1  \n",
       "4          1  \n",
       "...      ...  \n",
       "10905      1  \n",
       "10906      1  \n",
       "10907      2  \n",
       "10908      2  \n",
       "10909      1  \n",
       "\n",
       "[10910 rows x 10 columns]"
      ]
     },
     "execution_count": 188,
     "metadata": {},
     "output_type": "execute_result"
    }
   ],
   "source": [
    "numericals_df"
   ]
  },
  {
   "cell_type": "code",
   "execution_count": 189,
   "id": "f89bc9fb-d3c9-4ea3-9245-1d371e56a7b6",
   "metadata": {
    "tags": []
   },
   "outputs": [],
   "source": [
    "# Drop NAN and duplicates\n",
    "numericals_df = numericals_df.dropna()\n",
    "numericals_df = numericals_df.drop_duplicates()"
   ]
  },
  {
   "cell_type": "markdown",
   "id": "6d516369-673f-42d5-b988-407cf85115e9",
   "metadata": {},
   "source": [
    "### X-y Splitt"
   ]
  },
  {
   "cell_type": "code",
   "execution_count": 190,
   "id": "3f3b441b-f34f-494d-b54b-da0ce56b20d3",
   "metadata": {
    "tags": []
   },
   "outputs": [
    {
     "data": {
      "text/plain": [
       "Index(['unnamed:_0', 'customer_lifetime_value', 'income',\n",
       "       'monthly_premium_auto', 'months_since_last_claim',\n",
       "       'months_since_policy_inception', 'number_of_open_complaints',\n",
       "       'number_of_policies', 'total_claim_amount', 'month'],\n",
       "      dtype='object')"
      ]
     },
     "execution_count": 190,
     "metadata": {},
     "output_type": "execute_result"
    }
   ],
   "source": [
    "numericals_df.columns"
   ]
  },
  {
   "cell_type": "code",
   "execution_count": 191,
   "id": "87ebf838-84f8-4f66-8bcc-a0ced3d9c87a",
   "metadata": {
    "tags": []
   },
   "outputs": [],
   "source": [
    "X = numericals_df[['customer_lifetime_value', 'income',\n",
    "       'monthly_premium_auto', 'months_since_last_claim',\n",
    "       'months_since_policy_inception', 'number_of_open_complaints',\n",
    "       'number_of_policies', 'month']]\n",
    "y = numericals_df[['total_claim_amount']]"
   ]
  },
  {
   "cell_type": "markdown",
   "id": "2e734692-7dbc-4acb-945c-b84309bc5bbc",
   "metadata": {},
   "source": [
    "### Train test split"
   ]
  },
  {
   "cell_type": "code",
   "execution_count": 192,
   "id": "459a2da8-fa39-4d20-96ff-abf8823ae390",
   "metadata": {
    "tags": []
   },
   "outputs": [],
   "source": [
    "from sklearn.model_selection import train_test_split\n",
    "X_train, X_test, y_train, y_test = train_test_split(X,y, random_state= 42)"
   ]
  },
  {
   "cell_type": "markdown",
   "id": "2c45076b-3572-48f4-a0fa-bb4890f06db4",
   "metadata": {},
   "source": [
    "### Standardize the data (after the data split!)"
   ]
  },
  {
   "cell_type": "code",
   "execution_count": 193,
   "id": "af586285-71c4-4ef5-bfa0-9ec10d968ad7",
   "metadata": {
    "tags": []
   },
   "outputs": [
    {
     "data": {
      "image/png": "[encoded data removed]",
      "text/plain": [
       "<Figure size 1200x1000 with 9 Axes>"
      ]
     },
     "metadata": {},
     "output_type": "display_data"
    }
   ],
   "source": [
    "# Look at the histograms of the individual columns to decide which column should be transformed.\n",
    "\n",
    "import matplotlib.pyplot as plt\n",
    "import math\n",
    "\n",
    "# Assuming 'numericals_df' is your DataFrame with numerical features\n",
    "# Replace it with your actual DataFrame\n",
    "\n",
    "selected_columns = X.columns\n",
    "\n",
    "# Calculate the required layout size\n",
    "n_cols = len(selected_columns)\n",
    "cols_per_row = 3\n",
    "n_rows = math.ceil(n_cols / cols_per_row)\n",
    "\n",
    "# Display histograms for specific numerical columns\n",
    "X[selected_columns].hist(bins=10, figsize=(12, 10), layout=(n_rows, cols_per_row), sharex=False)\n",
    "plt.suptitle('Histograms of Selected Numerical Features', y=1.02, fontsize=16)\n",
    "plt.tight_layout()\n",
    "plt.show()"
   ]
  },
  {
   "cell_type": "code",
   "execution_count": 194,
   "id": "83a02c15-9b45-4d34-b164-5159a3e379db",
   "metadata": {},
   "outputs": [],
   "source": [
    "from sklearn.preprocessing import PowerTransformer\n",
    "from sklearn.preprocessing import StandardScaler\n",
    "from sklearn.preprocessing import MinMaxScaler"
   ]
  },
  {
   "cell_type": "code",
   "execution_count": 195,
   "id": "db15f0e1-78fe-4ea0-aee1-356818863a65",
   "metadata": {
    "tags": []
   },
   "outputs": [
    {
     "data": {
      "text/plain": [
       "<Axes: >"
      ]
     },
     "execution_count": 195,
     "metadata": {},
     "output_type": "execute_result"
    },
    {
     "data": {
      "image/png": "[encoded data removed]",
      "text/plain": [
       "<Figure size 640x480 with 1 Axes>"
      ]
     },
     "metadata": {},
     "output_type": "display_data"
    }
   ],
   "source": [
    "#PowerTransform X_train\n",
    "pt1 = PowerTransformer()\n",
    "X_train['customer_lifetime_value_pt'] = pt1.fit_transform(X_train[['customer_lifetime_value']])\n",
    "X_train['customer_lifetime_value_pt'].hist()"
   ]
  },
  {
   "cell_type": "code",
   "execution_count": 196,
   "id": "55665c72-1e6f-47a0-96a3-1bf30010ce9d",
   "metadata": {
    "tags": []
   },
   "outputs": [
    {
     "data": {
      "text/plain": [
       "<Axes: >"
      ]
     },
     "execution_count": 196,
     "metadata": {},
     "output_type": "execute_result"
    },
    {
     "data": {
      "image/png": "[encoded data removed]",
      "text/plain": [
       "<Figure size 640x480 with 1 Axes>"
      ]
     },
     "metadata": {},
     "output_type": "display_data"
    }
   ],
   "source": [
    "#PowerTransform X_test\n",
    "X_test['customer_lifetime_value_pt'] = pt1.transform(X_test[['customer_lifetime_value']])\n",
    "X_test['customer_lifetime_value_pt'].hist()"
   ]
  },
  {
   "cell_type": "code",
   "execution_count": 197,
   "id": "b898fb4c-80c4-4d39-8868-65f7b22be36e",
   "metadata": {
    "tags": []
   },
   "outputs": [
    {
     "data": {
      "text/plain": [
       "<Axes: >"
      ]
     },
     "execution_count": 197,
     "metadata": {},
     "output_type": "execute_result"
    },
    {
     "data": {
      "image/png": "[encoded data removed]",
      "text/plain": [
       "<Figure size 640x480 with 1 Axes>"
      ]
     },
     "metadata": {},
     "output_type": "display_data"
    }
   ],
   "source": [
    "#PowerTransform X_train\n",
    "pt2 = PowerTransformer()\n",
    "X_train['monthly_premium_auto_pt'] = pt2.fit_transform(X_train[['monthly_premium_auto']])\n",
    "X_train['monthly_premium_auto_pt'].hist()"
   ]
  },
  {
   "cell_type": "code",
   "execution_count": 198,
   "id": "2cba9cc5-f66c-40f4-a053-3517bfe3bb5f",
   "metadata": {
    "tags": []
   },
   "outputs": [
    {
     "data": {
      "text/plain": [
       "<Axes: >"
      ]
     },
     "execution_count": 198,
     "metadata": {},
     "output_type": "execute_result"
    },
    {
     "data": {
      "image/png": "[encoded data removed]",
      "text/plain": [
       "<Figure size 640x480 with 1 Axes>"
      ]
     },
     "metadata": {},
     "output_type": "display_data"
    }
   ],
   "source": [
    "#PowerTransform X_test\n",
    "X_test['monthly_premium_auto_pt'] = pt2.transform(X_test[['monthly_premium_auto']])\n",
    "X_test['monthly_premium_auto_pt'].hist()"
   ]
  },
  {
   "cell_type": "code",
   "execution_count": 199,
   "id": "b27b2e7d-eee9-421c-ba1e-3c19190d9569",
   "metadata": {
    "tags": []
   },
   "outputs": [
    {
     "data": {
      "text/plain": [
       "<Axes: >"
      ]
     },
     "execution_count": 199,
     "metadata": {},
     "output_type": "execute_result"
    },
    {
     "data": {
      "image/png": "[encoded data removed]",
      "text/plain": [
       "<Figure size 640x480 with 1 Axes>"
      ]
     },
     "metadata": {},
     "output_type": "display_data"
    }
   ],
   "source": [
    "# StandardScaler X_train\n",
    "scaler = StandardScaler()\n",
    "standardScaled_number_of_policies = scaler.fit_transform(X_train[['number_of_policies']])\n",
    "X_train['number_of_policies'] = standardScaled_number_of_policies\n",
    "X_train['number_of_policies'].hist()"
   ]
  },
  {
   "cell_type": "code",
   "execution_count": 200,
   "id": "1b22ef4e-c248-479a-b1cf-0a19f42b66e6",
   "metadata": {
    "tags": []
   },
   "outputs": [
    {
     "data": {
      "text/plain": [
       "<Axes: >"
      ]
     },
     "execution_count": 200,
     "metadata": {},
     "output_type": "execute_result"
    },
    {
     "data": {
      "image/png": "[encoded data removed]",
      "text/plain": [
       "<Figure size 640x480 with 1 Axes>"
      ]
     },
     "metadata": {},
     "output_type": "display_data"
    }
   ],
   "source": [
    "# StandardScaler X_test\n",
    "standardScaled_number_of_policies = scaler.transform(X_test[['number_of_policies']])\n",
    "X_test['number_of_policies'] = standardScaled_number_of_policies\n",
    "X_test['number_of_policies'].hist()"
   ]
  },
  {
   "cell_type": "code",
   "execution_count": 201,
   "id": "4c3c98fc-3685-4acc-8b01-ae1165e4b4df",
   "metadata": {
    "tags": []
   },
   "outputs": [
    {
     "data": {
      "text/plain": [
       "<Axes: >"
      ]
     },
     "execution_count": 201,
     "metadata": {},
     "output_type": "execute_result"
    },
    {
     "data": {
      "image/png": "[encoded data removed]",
      "text/plain": [
       "<Figure size 640x480 with 1 Axes>"
      ]
     },
     "metadata": {},
     "output_type": "display_data"
    }
   ],
   "source": [
    "# MinMaxScaler X_train\n",
    "scaler = MinMaxScaler()\n",
    "income_MM = scaler.fit_transform(X_train[['income']])\n",
    "X_train['income_MM'] = income_MM\n",
    "X_train['income_MM'].hist()"
   ]
  },
  {
   "cell_type": "code",
   "execution_count": 202,
   "id": "8de29a72-4efc-45e7-bb78-e964ddf3b620",
   "metadata": {
    "tags": []
   },
   "outputs": [
    {
     "data": {
      "text/plain": [
       "<Axes: >"
      ]
     },
     "execution_count": 202,
     "metadata": {},
     "output_type": "execute_result"
    },
    {
     "data": {
      "image/png": "[encoded data removed]",
      "text/plain": [
       "<Figure size 640x480 with 1 Axes>"
      ]
     },
     "metadata": {},
     "output_type": "display_data"
    }
   ],
   "source": [
    "# MinMaxScaler X_test\n",
    "income_MM = scaler.transform(X_test[['income']])\n",
    "X_test['income_MM'] = income_MM\n",
    "X_test['income_MM'].hist()"
   ]
  },
  {
   "cell_type": "markdown",
   "id": "ec93514b-2858-4679-a0c8-df7ef1df8bc1",
   "metadata": {},
   "source": [
    "### Apply linear regression"
   ]
  },
  {
   "cell_type": "code",
   "execution_count": 203,
   "id": "bc9fcb6b-215b-4547-bf55-3e2c561223f9",
   "metadata": {
    "tags": []
   },
   "outputs": [],
   "source": [
    "from sklearn.linear_model import LinearRegression\n",
    "ln = LinearRegression()\n",
    "model = ln.fit(X_train, y_train)"
   ]
  },
  {
   "cell_type": "code",
   "execution_count": 204,
   "id": "07ec5bcf-baa5-40f9-8932-7b048b388ea7",
   "metadata": {
    "tags": []
   },
   "outputs": [
    {
     "data": {
      "text/plain": [
       "array([[-4.04208039e-04, -3.28773423e-03,  6.10454594e+00,\n",
       "         1.61202270e-01, -1.81598762e-01, -6.43183091e-01,\n",
       "         1.21709828e+00, -1.71924555e+00, -1.69389313e+00,\n",
       "        -2.78554733e+01, -3.28836083e-08]])"
      ]
     },
     "execution_count": 204,
     "metadata": {},
     "output_type": "execute_result"
    }
   ],
   "source": [
    "model.coef_"
   ]
  },
  {
   "cell_type": "code",
   "execution_count": 205,
   "id": "40c51c37-a201-430c-8697-58e1be8c4840",
   "metadata": {
    "tags": []
   },
   "outputs": [
    {
     "data": {
      "text/plain": [
       "array([0.41263501])"
      ]
     },
     "execution_count": 205,
     "metadata": {},
     "output_type": "execute_result"
    }
   ],
   "source": [
    "model.intercept_"
   ]
  },
  {
   "cell_type": "markdown",
   "id": "4916a7ca-963e-4899-86be-e4732d5d4fd7",
   "metadata": {},
   "source": [
    "### Predict mass of random total_claim_amount"
   ]
  },
  {
   "cell_type": "code",
   "execution_count": 206,
   "id": "1ac2c0db-f780-4f4c-895a-7621f7430a05",
   "metadata": {
    "tags": []
   },
   "outputs": [],
   "source": [
    "random_total_claim_amount = X_test.sample()"
   ]
  },
  {
   "cell_type": "code",
   "execution_count": 207,
   "id": "73d3c9dc-9ebd-4793-a9dc-26e2bb307638",
   "metadata": {
    "tags": []
   },
   "outputs": [
    {
     "data": {
      "text/html": [
       "<div>\n",
       "<style scoped>\n",
       "    .dataframe tbody tr th:only-of-type {\n",
       "        vertical-align: middle;\n",
       "    }\n",
       "\n",
       "    .dataframe tbody tr th {\n",
       "        vertical-align: top;\n",
       "    }\n",
       "\n",
       "    .dataframe thead th {\n",
       "        text-align: right;\n",
       "    }\n",
       "</style>\n",
       "<table border=\"1\" class=\"dataframe\">\n",
       "  <thead>\n",
       "    <tr style=\"text-align: right;\">\n",
       "      <th></th>\n",
       "      <th>customer_lifetime_value</th>\n",
       "      <th>income</th>\n",
       "      <th>monthly_premium_auto</th>\n",
       "      <th>months_since_last_claim</th>\n",
       "      <th>months_since_policy_inception</th>\n",
       "      <th>number_of_open_complaints</th>\n",
       "      <th>number_of_policies</th>\n",
       "      <th>month</th>\n",
       "      <th>customer_lifetime_value_pt</th>\n",
       "      <th>monthly_premium_auto_pt</th>\n",
       "      <th>income_MM</th>\n",
       "    </tr>\n",
       "  </thead>\n",
       "  <tbody>\n",
       "    <tr>\n",
       "      <th>6861</th>\n",
       "      <td>9333.333631</td>\n",
       "      <td>89513</td>\n",
       "      <td>116</td>\n",
       "      <td>5.0</td>\n",
       "      <td>12</td>\n",
       "      <td>0.0</td>\n",
       "      <td>1.267033</td>\n",
       "      <td>1</td>\n",
       "      <td>0.691081</td>\n",
       "      <td>1.027036</td>\n",
       "      <td>0.8953</td>\n",
       "    </tr>\n",
       "  </tbody>\n",
       "</table>\n",
       "</div>"
      ],
      "text/plain": [
       "      customer_lifetime_value  income  monthly_premium_auto  \\\n",
       "6861              9333.333631   89513                   116   \n",
       "\n",
       "      months_since_last_claim  months_since_policy_inception  \\\n",
       "6861                      5.0                             12   \n",
       "\n",
       "      number_of_open_complaints  number_of_policies  month  \\\n",
       "6861                        0.0            1.267033      1   \n",
       "\n",
       "      customer_lifetime_value_pt  monthly_premium_auto_pt  income_MM  \n",
       "6861                    0.691081                 1.027036     0.8953  "
      ]
     },
     "execution_count": 207,
     "metadata": {},
     "output_type": "execute_result"
    }
   ],
   "source": [
    "random_total_claim_amount"
   ]
  },
  {
   "cell_type": "code",
   "execution_count": 208,
   "id": "8649b787-e291-42bb-a19a-bfb64e0f0fac",
   "metadata": {
    "tags": []
   },
   "outputs": [
    {
     "data": {
      "text/plain": [
       "array([[379.14289652]])"
      ]
     },
     "execution_count": 208,
     "metadata": {},
     "output_type": "execute_result"
    }
   ],
   "source": [
    "model.predict(random_total_claim_amount)"
   ]
  },
  {
   "cell_type": "markdown",
   "id": "d35a086e-3e72-42cd-ac95-15971d37d0cb",
   "metadata": {},
   "source": [
    "### Create predictions for the test set"
   ]
  },
  {
   "cell_type": "code",
   "execution_count": 209,
   "id": "9fcb4b75-a52e-4b59-9676-2b38510a3c04",
   "metadata": {
    "tags": []
   },
   "outputs": [],
   "source": [
    "y_pred = model.predict(X_test)"
   ]
  },
  {
   "cell_type": "code",
   "execution_count": 210,
   "id": "931a1729-6f7c-4b2d-9ad0-7534131c0e34",
   "metadata": {
    "tags": []
   },
   "outputs": [],
   "source": [
    "y_pred = pd.DataFrame(y_pred)"
   ]
  },
  {
   "cell_type": "code",
   "execution_count": 211,
   "id": "9ace4093-5c2c-44e3-90f3-df6dbb62b3ed",
   "metadata": {
    "tags": []
   },
   "outputs": [],
   "source": [
    "y_test = y_test.reset_index(drop=True)"
   ]
  },
  {
   "cell_type": "code",
   "execution_count": 212,
   "id": "5bb194d9-3213-4f12-8c5e-8ce567208339",
   "metadata": {
    "tags": []
   },
   "outputs": [],
   "source": [
    "residuals_df = pd.concat([y_test,y_pred], axis=1)"
   ]
  },
  {
   "cell_type": "code",
   "execution_count": 213,
   "id": "c0898c19-a61a-4e62-9569-cd6ffb34d439",
   "metadata": {
    "tags": []
   },
   "outputs": [],
   "source": [
    "residuals_df = pd.concat([y_test,y_pred], axis=1)"
   ]
  },
  {
   "cell_type": "code",
   "execution_count": 214,
   "id": "d933482a-b017-4154-b3ae-e6ea439eb69b",
   "metadata": {
    "tags": []
   },
   "outputs": [
    {
     "data": {
      "text/html": [
       "<div>\n",
       "<style scoped>\n",
       "    .dataframe tbody tr th:only-of-type {\n",
       "        vertical-align: middle;\n",
       "    }\n",
       "\n",
       "    .dataframe tbody tr th {\n",
       "        vertical-align: top;\n",
       "    }\n",
       "\n",
       "    .dataframe thead th {\n",
       "        text-align: right;\n",
       "    }\n",
       "</style>\n",
       "<table border=\"1\" class=\"dataframe\">\n",
       "  <thead>\n",
       "    <tr style=\"text-align: right;\">\n",
       "      <th></th>\n",
       "      <th>total_claim_amount</th>\n",
       "      <th>0</th>\n",
       "    </tr>\n",
       "  </thead>\n",
       "  <tbody>\n",
       "    <tr>\n",
       "      <th>0</th>\n",
       "      <td>475.423848</td>\n",
       "      <td>125.222070</td>\n",
       "    </tr>\n",
       "    <tr>\n",
       "      <th>1</th>\n",
       "      <td>350.400000</td>\n",
       "      <td>352.630010</td>\n",
       "    </tr>\n",
       "    <tr>\n",
       "      <th>2</th>\n",
       "      <td>482.400000</td>\n",
       "      <td>425.570109</td>\n",
       "    </tr>\n",
       "    <tr>\n",
       "      <th>3</th>\n",
       "      <td>673.342650</td>\n",
       "      <td>421.270392</td>\n",
       "    </tr>\n",
       "    <tr>\n",
       "      <th>4</th>\n",
       "      <td>302.400000</td>\n",
       "      <td>171.861354</td>\n",
       "    </tr>\n",
       "    <tr>\n",
       "      <th>...</th>\n",
       "      <td>...</td>\n",
       "      <td>...</td>\n",
       "    </tr>\n",
       "    <tr>\n",
       "      <th>2723</th>\n",
       "      <td>460.266881</td>\n",
       "      <td>580.450217</td>\n",
       "    </tr>\n",
       "    <tr>\n",
       "      <th>2724</th>\n",
       "      <td>405.883346</td>\n",
       "      <td>311.251151</td>\n",
       "    </tr>\n",
       "    <tr>\n",
       "      <th>2725</th>\n",
       "      <td>41.182611</td>\n",
       "      <td>195.711946</td>\n",
       "    </tr>\n",
       "    <tr>\n",
       "      <th>2726</th>\n",
       "      <td>364.800000</td>\n",
       "      <td>452.095753</td>\n",
       "    </tr>\n",
       "    <tr>\n",
       "      <th>2727</th>\n",
       "      <td>89.411365</td>\n",
       "      <td>205.092438</td>\n",
       "    </tr>\n",
       "  </tbody>\n",
       "</table>\n",
       "<p>2728 rows × 2 columns</p>\n",
       "</div>"
      ],
      "text/plain": [
       "      total_claim_amount           0\n",
       "0             475.423848  125.222070\n",
       "1             350.400000  352.630010\n",
       "2             482.400000  425.570109\n",
       "3             673.342650  421.270392\n",
       "4             302.400000  171.861354\n",
       "...                  ...         ...\n",
       "2723          460.266881  580.450217\n",
       "2724          405.883346  311.251151\n",
       "2725           41.182611  195.711946\n",
       "2726          364.800000  452.095753\n",
       "2727           89.411365  205.092438\n",
       "\n",
       "[2728 rows x 2 columns]"
      ]
     },
     "execution_count": 214,
     "metadata": {},
     "output_type": "execute_result"
    }
   ],
   "source": [
    "residuals_df"
   ]
  },
  {
   "cell_type": "code",
   "execution_count": 215,
   "id": "eca829b0-9a37-4298-9523-c205efe64596",
   "metadata": {
    "tags": []
   },
   "outputs": [],
   "source": [
    "residuals_df = residuals_df.rename(columns={'total_claim_amount': 'y_test',0: 'y_pred'})"
   ]
  },
  {
   "cell_type": "code",
   "execution_count": 216,
   "id": "72a8c30c-4509-4ccc-8992-61b32e9589a1",
   "metadata": {
    "tags": []
   },
   "outputs": [],
   "source": [
    "residuals_df['residual'] = residuals_df['y_test'] - residuals_df['y_pred']"
   ]
  },
  {
   "cell_type": "code",
   "execution_count": 217,
   "id": "468beea0-0769-4688-b47c-4393e3fb98dc",
   "metadata": {
    "tags": []
   },
   "outputs": [
    {
     "data": {
      "text/html": [
       "<div>\n",
       "<style scoped>\n",
       "    .dataframe tbody tr th:only-of-type {\n",
       "        vertical-align: middle;\n",
       "    }\n",
       "\n",
       "    .dataframe tbody tr th {\n",
       "        vertical-align: top;\n",
       "    }\n",
       "\n",
       "    .dataframe thead th {\n",
       "        text-align: right;\n",
       "    }\n",
       "</style>\n",
       "<table border=\"1\" class=\"dataframe\">\n",
       "  <thead>\n",
       "    <tr style=\"text-align: right;\">\n",
       "      <th></th>\n",
       "      <th>y_test</th>\n",
       "      <th>y_pred</th>\n",
       "      <th>residual</th>\n",
       "    </tr>\n",
       "  </thead>\n",
       "  <tbody>\n",
       "    <tr>\n",
       "      <th>0</th>\n",
       "      <td>475.423848</td>\n",
       "      <td>125.222070</td>\n",
       "      <td>350.201778</td>\n",
       "    </tr>\n",
       "    <tr>\n",
       "      <th>1</th>\n",
       "      <td>350.400000</td>\n",
       "      <td>352.630010</td>\n",
       "      <td>-2.230010</td>\n",
       "    </tr>\n",
       "    <tr>\n",
       "      <th>2</th>\n",
       "      <td>482.400000</td>\n",
       "      <td>425.570109</td>\n",
       "      <td>56.829891</td>\n",
       "    </tr>\n",
       "    <tr>\n",
       "      <th>3</th>\n",
       "      <td>673.342650</td>\n",
       "      <td>421.270392</td>\n",
       "      <td>252.072258</td>\n",
       "    </tr>\n",
       "    <tr>\n",
       "      <th>4</th>\n",
       "      <td>302.400000</td>\n",
       "      <td>171.861354</td>\n",
       "      <td>130.538646</td>\n",
       "    </tr>\n",
       "    <tr>\n",
       "      <th>...</th>\n",
       "      <td>...</td>\n",
       "      <td>...</td>\n",
       "      <td>...</td>\n",
       "    </tr>\n",
       "    <tr>\n",
       "      <th>2723</th>\n",
       "      <td>460.266881</td>\n",
       "      <td>580.450217</td>\n",
       "      <td>-120.183336</td>\n",
       "    </tr>\n",
       "    <tr>\n",
       "      <th>2724</th>\n",
       "      <td>405.883346</td>\n",
       "      <td>311.251151</td>\n",
       "      <td>94.632195</td>\n",
       "    </tr>\n",
       "    <tr>\n",
       "      <th>2725</th>\n",
       "      <td>41.182611</td>\n",
       "      <td>195.711946</td>\n",
       "      <td>-154.529335</td>\n",
       "    </tr>\n",
       "    <tr>\n",
       "      <th>2726</th>\n",
       "      <td>364.800000</td>\n",
       "      <td>452.095753</td>\n",
       "      <td>-87.295753</td>\n",
       "    </tr>\n",
       "    <tr>\n",
       "      <th>2727</th>\n",
       "      <td>89.411365</td>\n",
       "      <td>205.092438</td>\n",
       "      <td>-115.681073</td>\n",
       "    </tr>\n",
       "  </tbody>\n",
       "</table>\n",
       "<p>2728 rows × 3 columns</p>\n",
       "</div>"
      ],
      "text/plain": [
       "          y_test      y_pred    residual\n",
       "0     475.423848  125.222070  350.201778\n",
       "1     350.400000  352.630010   -2.230010\n",
       "2     482.400000  425.570109   56.829891\n",
       "3     673.342650  421.270392  252.072258\n",
       "4     302.400000  171.861354  130.538646\n",
       "...          ...         ...         ...\n",
       "2723  460.266881  580.450217 -120.183336\n",
       "2724  405.883346  311.251151   94.632195\n",
       "2725   41.182611  195.711946 -154.529335\n",
       "2726  364.800000  452.095753  -87.295753\n",
       "2727   89.411365  205.092438 -115.681073\n",
       "\n",
       "[2728 rows x 3 columns]"
      ]
     },
     "execution_count": 217,
     "metadata": {},
     "output_type": "execute_result"
    }
   ],
   "source": [
    "residuals_df"
   ]
  },
  {
   "cell_type": "markdown",
   "id": "8b65ea99-8a1c-4bab-a01f-fa67d3f34cfc",
   "metadata": {},
   "source": [
    "### Calculating metrics"
   ]
  },
  {
   "cell_type": "code",
   "execution_count": 218,
   "id": "6b6547ae-71d2-4e5f-9994-cf8e178fc9c5",
   "metadata": {
    "tags": []
   },
   "outputs": [
    {
     "data": {
      "text/plain": [
       "5.1252715080798135"
      ]
     },
     "execution_count": 218,
     "metadata": {},
     "output_type": "execute_result"
    }
   ],
   "source": [
    "mean_error = residuals_df['residual'].mean()\n",
    "mean_error"
   ]
  },
  {
   "cell_type": "code",
   "execution_count": 219,
   "id": "e0a4e650-59b1-4ed6-80fe-ffed45d89f4c",
   "metadata": {
    "tags": []
   },
   "outputs": [
    {
     "data": {
      "text/plain": [
       "40584.70239828326"
      ]
     },
     "execution_count": 219,
     "metadata": {},
     "output_type": "execute_result"
    }
   ],
   "source": [
    "from sklearn.metrics import mean_squared_error as mse, mean_absolute_error as mae\n",
    "mse(y_test, y_pred)"
   ]
  },
  {
   "cell_type": "code",
   "execution_count": 220,
   "id": "2b12d817-3497-4492-96a4-b8e1bdaabee0",
   "metadata": {
    "tags": []
   },
   "outputs": [
    {
     "data": {
      "text/plain": [
       "201.4564528583864"
      ]
     },
     "execution_count": 220,
     "metadata": {},
     "output_type": "execute_result"
    }
   ],
   "source": [
    "import numpy as np\n",
    "np.sqrt(mse(y_test, y_pred))"
   ]
  },
  {
   "cell_type": "code",
   "execution_count": 221,
   "id": "ec3e5f6e-40df-4ff5-badf-f56b69d747ed",
   "metadata": {
    "tags": []
   },
   "outputs": [
    {
     "data": {
      "text/plain": [
       "201.4564528583864"
      ]
     },
     "execution_count": 221,
     "metadata": {},
     "output_type": "execute_result"
    }
   ],
   "source": [
    "rmse = mse(y_test, y_pred, squared=False)\n",
    "rmse"
   ]
  },
  {
   "cell_type": "markdown",
   "id": "a6e04f4f-f679-459a-8a84-1814ed3ae39d",
   "metadata": {},
   "source": [
    "### Computing R2_score for test_set"
   ]
  },
  {
   "cell_type": "code",
   "execution_count": 226,
   "id": "8cc461aa-0caa-43ce-817e-8b5c7acee951",
   "metadata": {},
   "outputs": [
    {
     "data": {
      "text/plain": [
       "0.51"
      ]
     },
     "execution_count": 226,
     "metadata": {},
     "output_type": "execute_result"
    }
   ],
   "source": [
    "from sklearn.metrics import r2_score\n",
    "r2_test = round(r2_score(y_test, y_pred), 2)\n",
    "r2_test"
   ]
  },
  {
   "cell_type": "markdown",
   "id": "9e8e8a22-2817-40e8-adf2-ac4023be7057",
   "metadata": {},
   "source": [
    "### Computing R2_score for train_set"
   ]
  },
  {
   "cell_type": "code",
   "execution_count": 239,
   "id": "df247278-9a75-4856-ad09-8fb1f16d420c",
   "metadata": {
    "tags": []
   },
   "outputs": [
    {
     "data": {
      "text/plain": [
       "0.52"
      ]
     },
     "execution_count": 239,
     "metadata": {},
     "output_type": "execute_result"
    }
   ],
   "source": [
    "y_pred_train = pd.DataFrame(model.predict(X_train))\n",
    "r2_train = round(r2_score(y_train, y_pred_train), 2)\n",
    "r2_train"
   ]
  },
  {
   "cell_type": "code",
   "execution_count": null,
   "id": "c9a36e00-2cb6-4106-b298-718026ad4f3c",
   "metadata": {},
   "outputs": [],
   "source": []
  }
 ],
 "metadata": {
  "kernelspec": {
   "display_name": "Python 3 (ipykernel)",
   "language": "python",
   "name": "python3"
  },
  "language_info": {
   "codemirror_mode": {
    "name": "ipython",
    "version": 3
   },
   "file_extension": ".py",
   "mimetype": "text/x-python",
   "name": "python",
   "nbconvert_exporter": "python",
   "pygments_lexer": "ipython3",
   "version": "3.11.5"
  }
 },
 "nbformat": 4,
 "nbformat_minor": 5
}
